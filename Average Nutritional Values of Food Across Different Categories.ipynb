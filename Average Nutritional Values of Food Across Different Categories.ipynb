{
 "cells": [
  {
   "cell_type": "markdown",
   "metadata": {},
   "source": [
    "For now we are comparing Different Subgroups and Subcategories"
   ]
  },
  {
   "cell_type": "code",
   "execution_count": 1,
   "metadata": {},
   "outputs": [
    {
     "name": "stdout",
     "output_type": "stream",
     "text": [
      "Requirement already satisfied: numpy in /Library/Frameworks/Python.framework/Versions/3.11/lib/python3.11/site-packages (1.26.2)\n",
      "\n",
      "\u001b[1m[\u001b[0m\u001b[34;49mnotice\u001b[0m\u001b[1;39;49m]\u001b[0m\u001b[39;49m A new release of pip is available: \u001b[0m\u001b[31;49m23.1.2\u001b[0m\u001b[39;49m -> \u001b[0m\u001b[32;49m24.0\u001b[0m\n",
      "\u001b[1m[\u001b[0m\u001b[34;49mnotice\u001b[0m\u001b[1;39;49m]\u001b[0m\u001b[39;49m To update, run: \u001b[0m\u001b[32;49mpython3 -m pip install --upgrade pip\u001b[0m\n",
      "Note: you may need to restart the kernel to use updated packages.\n"
     ]
    }
   ],
   "source": [
    "import pandas as pd\n",
    "\n",
    "%pip install numpy"
   ]
  },
  {
   "cell_type": "code",
   "execution_count": 4,
   "metadata": {},
   "outputs": [],
   "source": [
    "df = pd.read_csv('/Users/ivan/Desktop/menu.csv')"
   ]
  },
  {
   "cell_type": "markdown",
   "metadata": {},
   "source": [
    "Grilled vs. Crispy Chicken Nutritional Value\n"
   ]
  },
  {
   "cell_type": "code",
   "execution_count": 3,
   "metadata": {},
   "outputs": [],
   "source": [
    "grilled_chicken_items = df[df['Item'].str.contains('Grilled', case=False, na=False)]\n",
    "crispy_chicken_items = df[df['Item'].str.contains('Crispy', case=False, na=False)]\n",
    "\n",
    "grilled_chicken_avg_nutrition = grilled_chicken_items[['Calories', 'Total Fat', 'Protein']].mean()\n",
    "crispy_chicken_avg_nutrition = crispy_chicken_items[['Calories', 'Total Fat', 'Protein']].mean()\n"
   ]
  },
  {
   "cell_type": "code",
   "execution_count": 9,
   "metadata": {},
   "outputs": [
    {
     "name": "stdout",
     "output_type": "stream",
     "text": [
      "Calories     386.923077\n",
      "Total Fat     13.923077\n",
      "Protein       28.615385\n",
      "dtype: float64\n",
      "Calories     520.000000\n",
      "Total Fat     25.142857\n",
      "Protein       24.928571\n",
      "dtype: float64\n"
     ]
    }
   ],
   "source": [
    "print(grilled_chicken_avg_nutrition)\n",
    "print(crispy_chicken_avg_nutrition)"
   ]
  },
  {
   "cell_type": "code",
   "execution_count": null,
   "metadata": {},
   "outputs": [],
   "source": [
    "Egg Whites vs. Whole Eggs"
   ]
  },
  {
   "cell_type": "code",
   "execution_count": 13,
   "metadata": {},
   "outputs": [],
   "source": [
    "egg_white_items = df[df['Item'].str.contains('Egg White', case=False, na=False)]\n",
    "whole_egg_items = df[(~df['Item'].str.contains('Egg White', case=False, na=False)) & (df['Category'] == 'Breakfast')]\n",
    "egg_white_avg_nutrition = egg_white_items[['Calories', 'Total Fat', 'Protein']].mean()\n",
    "whole_egg_avg_nutrition = whole_egg_items[['Calories', 'Total Fat', 'Protein']].mean()"
   ]
  },
  {
   "cell_type": "code",
   "execution_count": 14,
   "metadata": {},
   "outputs": [
    {
     "name": "stdout",
     "output_type": "stream",
     "text": [
      "Calories     509.310345\n",
      "Total Fat     27.172414\n",
      "Protein       18.137931\n",
      "dtype: float64\n"
     ]
    }
   ],
   "source": [
    "print(whole_egg_avg_nutrition)"
   ]
  },
  {
   "cell_type": "code",
   "execution_count": 15,
   "metadata": {},
   "outputs": [
    {
     "name": "stdout",
     "output_type": "stream",
     "text": [
      "Calories     565.384615\n",
      "Total Fat     28.846154\n",
      "Protein       23.692308\n",
      "dtype: float64\n"
     ]
    }
   ],
   "source": [
    "print(egg_white_avg_nutrition)"
   ]
  },
  {
   "cell_type": "code",
   "execution_count": 26,
   "metadata": {},
   "outputs": [],
   "source": [
    "import pandas as pd\n",
    "from itertools import combinations\n",
    "\n",
    "def find_menu_combinations(df, calorie_goal, protein_goal, fat_limit):\n",
    "    # Ensure the data columns used are numeric\n",
    "    df['Calories'] = pd.to_numeric(df['Calories'], errors='coerce')\n",
    "    df['Total Fat'] = pd.to_numeric(df['Total Fat'], errors='coerce')\n",
    "    df['Protein'] = pd.to_numeric(df['Protein'], errors='coerce')\n",
    "    \n",
    "    for r in range(1, len(df) + 1):\n",
    "        for combo in combinations(df.itertuples(index=False, name=None), r):\n",
    "            total_calories = sum(item[1] for item in combo)  # Adjust index based on column position\n",
    "            total_protein = sum(item[3] for item in combo)  # Adjust index based on column position\n",
    "            total_fat = sum(item[2] for item in combo)  # Adjust index based on column position\n",
    "            if total_calories <= calorie_goal and total_protein >= protein_goal and total_fat <= fat_limit:\n",
    "                return combo\n",
    "    return None\n"
   ]
  },
  {
   "cell_type": "code",
   "execution_count": 32,
   "metadata": {},
   "outputs": [
    {
     "ename": "TypeError",
     "evalue": "unsupported operand type(s) for +: 'int' and 'str'",
     "output_type": "error",
     "traceback": [
      "\u001b[0;31m---------------------------------------------------------------------------\u001b[0m",
      "\u001b[0;31mTypeError\u001b[0m                                 Traceback (most recent call last)",
      "Cell \u001b[0;32mIn[32], line 1\u001b[0m\n\u001b[0;32m----> 1\u001b[0m optimal_combination \u001b[38;5;241m=\u001b[39m \u001b[43mfind_menu_combinations\u001b[49m\u001b[43m(\u001b[49m\u001b[43mdf\u001b[49m\u001b[43m,\u001b[49m\u001b[43m \u001b[49m\u001b[43mcalorie_goal\u001b[49m\u001b[43m,\u001b[49m\u001b[43m \u001b[49m\u001b[43mprotein_goal\u001b[49m\u001b[43m,\u001b[49m\u001b[43m \u001b[49m\u001b[43mfat_limit\u001b[49m\u001b[43m)\u001b[49m\n",
      "Cell \u001b[0;32mIn[26], line 12\u001b[0m, in \u001b[0;36mfind_menu_combinations\u001b[0;34m(df, calorie_goal, protein_goal, fat_limit)\u001b[0m\n\u001b[1;32m     10\u001b[0m \u001b[38;5;28;01mfor\u001b[39;00m r \u001b[38;5;129;01min\u001b[39;00m \u001b[38;5;28mrange\u001b[39m(\u001b[38;5;241m1\u001b[39m, \u001b[38;5;28mlen\u001b[39m(df) \u001b[38;5;241m+\u001b[39m \u001b[38;5;241m1\u001b[39m):\n\u001b[1;32m     11\u001b[0m     \u001b[38;5;28;01mfor\u001b[39;00m combo \u001b[38;5;129;01min\u001b[39;00m combinations(df\u001b[38;5;241m.\u001b[39mitertuples(index\u001b[38;5;241m=\u001b[39m\u001b[38;5;28;01mFalse\u001b[39;00m, name\u001b[38;5;241m=\u001b[39m\u001b[38;5;28;01mNone\u001b[39;00m), r):\n\u001b[0;32m---> 12\u001b[0m         total_calories \u001b[38;5;241m=\u001b[39m \u001b[38;5;28;43msum\u001b[39;49m\u001b[43m(\u001b[49m\u001b[43mitem\u001b[49m\u001b[43m[\u001b[49m\u001b[38;5;241;43m1\u001b[39;49m\u001b[43m]\u001b[49m\u001b[43m \u001b[49m\u001b[38;5;28;43;01mfor\u001b[39;49;00m\u001b[43m \u001b[49m\u001b[43mitem\u001b[49m\u001b[43m \u001b[49m\u001b[38;5;129;43;01min\u001b[39;49;00m\u001b[43m \u001b[49m\u001b[43mcombo\u001b[49m\u001b[43m)\u001b[49m  \u001b[38;5;66;03m# Adjust index based on column position\u001b[39;00m\n\u001b[1;32m     13\u001b[0m         total_protein \u001b[38;5;241m=\u001b[39m \u001b[38;5;28msum\u001b[39m(item[\u001b[38;5;241m3\u001b[39m] \u001b[38;5;28;01mfor\u001b[39;00m item \u001b[38;5;129;01min\u001b[39;00m combo)  \u001b[38;5;66;03m# Adjust index based on column position\u001b[39;00m\n\u001b[1;32m     14\u001b[0m         total_fat \u001b[38;5;241m=\u001b[39m \u001b[38;5;28msum\u001b[39m(item[\u001b[38;5;241m2\u001b[39m] \u001b[38;5;28;01mfor\u001b[39;00m item \u001b[38;5;129;01min\u001b[39;00m combo)  \u001b[38;5;66;03m# Adjust index based on column position\u001b[39;00m\n",
      "\u001b[0;31mTypeError\u001b[0m: unsupported operand type(s) for +: 'int' and 'str'"
     ]
    }
   ],
   "source": [
    "optimal_combination = find_menu_combinations(df, calorie_goal, protein_goal, fat_limit)\n"
   ]
  },
  {
   "cell_type": "code",
   "execution_count": 33,
   "metadata": {},
   "outputs": [
    {
     "name": "stdout",
     "output_type": "stream",
     "text": [
      "Optimal Combination of Menu Items to Meet Daily Nutritional Requirements:\n",
      "Item: Item A, Calories: 500, Total Fat: 20, Protein: 30\n",
      "Item: Item B, Calories: 700, Total Fat: 15, Protein: 25\n"
     ]
    }
   ],
   "source": [
    "import pandas as pd\n",
    "\n",
    "# Example: Define your function (simplified version)\n",
    "def find_menu_combinations(data, calorie_goal, protein_goal, fat_limit):\n",
    "    # This is a placeholder for the actual logic you would use to find the combination\n",
    "    # For demonstration, let's return a simple list of namedtuples representing menu items\n",
    "    from collections import namedtuple\n",
    "    MenuItem = namedtuple('MenuItem', 'Item Calories TotalFat Protein')\n",
    "    return [\n",
    "        MenuItem('Item A', 500, 20, 30),\n",
    "        MenuItem('Item B', 700, 15, 25)\n",
    "    ]\n",
    "\n",
    "# Example usage of the function\n",
    "data = pd.DataFrame()  # Assume this is your loaded dataset\n",
    "calorie_goal = 2000\n",
    "protein_goal = 50\n",
    "fat_limit = 70\n",
    "\n",
    "optimal_combination = find_menu_combinations(data, calorie_goal, protein_goal, fat_limit)\n",
    "\n",
    "# Print the result\n",
    "if optimal_combination:\n",
    "    print(\"Optimal Combination of Menu Items to Meet Daily Nutritional Requirements:\")\n",
    "    for item in optimal_combination:\n",
    "        print(f\"Item: {item.Item}, Calories: {item.Calories}, Total Fat: {item.TotalFat}, Protein: {item.Protein}\")\n",
    "else:\n",
    "    print(\"No combination found that meets the daily nutritional requirements.\")"
   ]
  }
 ],
 "metadata": {
  "kernelspec": {
   "display_name": "Python 3",
   "language": "python",
   "name": "python3"
  },
  "language_info": {
   "codemirror_mode": {
    "name": "ipython",
    "version": 3
   },
   "file_extension": ".py",
   "mimetype": "text/x-python",
   "name": "python",
   "nbconvert_exporter": "python",
   "pygments_lexer": "ipython3",
   "version": "3.11.4"
  }
 },
 "nbformat": 4,
 "nbformat_minor": 2
}
