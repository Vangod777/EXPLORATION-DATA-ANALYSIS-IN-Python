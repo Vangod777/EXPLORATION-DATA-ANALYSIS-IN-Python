{
 "cells": [
  {
   "cell_type": "code",
   "execution_count": null,
   "metadata": {},
   "outputs": [],
   "source": [
    " Caloric contribution of beverages. We''ll calculate the average calories for items categorized under \"Beverages\", \"Coffee & Tea\", \"Smoothies & Shakes\"."
   ]
  },
  {
   "cell_type": "code",
   "execution_count": 1,
   "metadata": {},
   "outputs": [
    {
     "name": "stdout",
     "output_type": "stream",
     "text": [
      "Requirement already satisfied: numpy in /Library/Frameworks/Python.framework/Versions/3.11/lib/python3.11/site-packages (1.26.2)\n",
      "\n",
      "\u001b[1m[\u001b[0m\u001b[34;49mnotice\u001b[0m\u001b[1;39;49m]\u001b[0m\u001b[39;49m A new release of pip is available: \u001b[0m\u001b[31;49m23.1.2\u001b[0m\u001b[39;49m -> \u001b[0m\u001b[32;49m24.0\u001b[0m\n",
      "\u001b[1m[\u001b[0m\u001b[34;49mnotice\u001b[0m\u001b[1;39;49m]\u001b[0m\u001b[39;49m To update, run: \u001b[0m\u001b[32;49mpython3 -m pip install --upgrade pip\u001b[0m\n",
      "Note: you may need to restart the kernel to use updated packages.\n"
     ]
    }
   ],
   "source": [
    "import pandas as pd\n",
    "\n",
    "%pip install numpy"
   ]
  },
  {
   "cell_type": "code",
   "execution_count": 2,
   "metadata": {},
   "outputs": [
    {
     "name": "stdout",
     "output_type": "stream",
     "text": [
      "               Category                                               Item  \\\n",
      "0             Breakfast                                       Egg McMuffin   \n",
      "1             Breakfast                                  Egg White Delight   \n",
      "2             Breakfast                                   Sausage McMuffin   \n",
      "3             Breakfast                          Sausage McMuffin with Egg   \n",
      "4             Breakfast                   Sausage McMuffin with Egg Whites   \n",
      "..                  ...                                                ...   \n",
      "255  Smoothies & Shakes                 McFlurry with Oreo Cookies (Small)   \n",
      "256  Smoothies & Shakes                McFlurry with Oreo Cookies (Medium)   \n",
      "257  Smoothies & Shakes                 McFlurry with Oreo Cookies (Snack)   \n",
      "258  Smoothies & Shakes  McFlurry with Reese's Peanut Butter Cups (Medium)   \n",
      "259  Smoothies & Shakes   McFlurry with Reese's Peanut Butter Cups (Snack)   \n",
      "\n",
      "        Serving Size  Calories  Calories from Fat  Total Fat  \\\n",
      "0     4.8 oz (136 g)       300                120       13.0   \n",
      "1     4.8 oz (135 g)       250                 70        8.0   \n",
      "2     3.9 oz (111 g)       370                200       23.0   \n",
      "3     5.7 oz (161 g)       450                250       28.0   \n",
      "4     5.7 oz (161 g)       400                210       23.0   \n",
      "..               ...       ...                ...        ...   \n",
      "255  10.1 oz (285 g)       510                150       17.0   \n",
      "256  13.4 oz (381 g)       690                200       23.0   \n",
      "257   6.7 oz (190 g)       340                100       11.0   \n",
      "258  14.2 oz (403 g)       810                290       32.0   \n",
      "259   7.1 oz (202 g)       410                150       16.0   \n",
      "\n",
      "     Total Fat (% Daily Value)  Saturated Fat  Saturated Fat (% Daily Value)  \\\n",
      "0                           20            5.0                             25   \n",
      "1                           12            3.0                             15   \n",
      "2                           35            8.0                             42   \n",
      "3                           43           10.0                             52   \n",
      "4                           35            8.0                             42   \n",
      "..                         ...            ...                            ...   \n",
      "255                         26            9.0                             44   \n",
      "256                         35           12.0                             58   \n",
      "257                         17            6.0                             29   \n",
      "258                         50           15.0                             76   \n",
      "259                         25            8.0                             38   \n",
      "\n",
      "     Trans Fat  ...  Carbohydrates  Carbohydrates (% Daily Value)  \\\n",
      "0          0.0  ...             31                             10   \n",
      "1          0.0  ...             30                             10   \n",
      "2          0.0  ...             29                             10   \n",
      "3          0.0  ...             30                             10   \n",
      "4          0.0  ...             30                             10   \n",
      "..         ...  ...            ...                            ...   \n",
      "255        0.5  ...             80                             27   \n",
      "256        1.0  ...            106                             35   \n",
      "257        0.0  ...             53                             18   \n",
      "258        1.0  ...            114                             38   \n",
      "259        0.0  ...             57                             19   \n",
      "\n",
      "     Dietary Fiber  Dietary Fiber (% Daily Value)  Sugars  Protein  \\\n",
      "0                4                             17       3       17   \n",
      "1                4                             17       3       18   \n",
      "2                4                             17       2       14   \n",
      "3                4                             17       2       21   \n",
      "4                4                             17       2       21   \n",
      "..             ...                            ...     ...      ...   \n",
      "255              1                              4      64       12   \n",
      "256              1                              5      85       15   \n",
      "257              1                              2      43        8   \n",
      "258              2                              9     103       21   \n",
      "259              1                              5      51       10   \n",
      "\n",
      "     Vitamin A (% Daily Value)  Vitamin C (% Daily Value)  \\\n",
      "0                           10                          0   \n",
      "1                            6                          0   \n",
      "2                            8                          0   \n",
      "3                           15                          0   \n",
      "4                            6                          0   \n",
      "..                         ...                        ...   \n",
      "255                         15                          0   \n",
      "256                         20                          0   \n",
      "257                         10                          0   \n",
      "258                         20                          0   \n",
      "259                         10                          0   \n",
      "\n",
      "     Calcium (% Daily Value)  Iron (% Daily Value)  \n",
      "0                         25                    15  \n",
      "1                         25                     8  \n",
      "2                         25                    10  \n",
      "3                         30                    15  \n",
      "4                         25                    10  \n",
      "..                       ...                   ...  \n",
      "255                       40                     8  \n",
      "256                       50                    10  \n",
      "257                       25                     6  \n",
      "258                       60                     6  \n",
      "259                       30                     4  \n",
      "\n",
      "[260 rows x 24 columns]\n"
     ]
    }
   ],
   "source": [
    "df = pd.read_csv('/Users/ivan/Desktop/menu.csv')\n",
    "\n",
    "print(df)"
   ]
  },
  {
   "cell_type": "markdown",
   "metadata": {},
   "source": [
    "Sort our beverage category in to group"
   ]
  },
  {
   "cell_type": "code",
   "execution_count": 3,
   "metadata": {},
   "outputs": [],
   "source": [
    "value_meal_categories = ['Breakfast', 'Beef & Pork', 'Chicken & Fish', 'Snacks & Sides']\n"
   ]
  },
  {
   "cell_type": "code",
   "execution_count": 5,
   "metadata": {},
   "outputs": [
    {
     "data": {
      "text/plain": [
       "491.2886597938144"
      ]
     },
     "execution_count": 5,
     "metadata": {},
     "output_type": "execute_result"
    }
   ],
   "source": [
    "average_calories_value_meal = df[df['Category'].isin(value_meal_categories)]['Calories'].mean()\n",
    "\n",
    "average_calories_value_meal"
   ]
  },
  {
   "cell_type": "code",
   "execution_count": null,
   "metadata": {},
   "outputs": [],
   "source": []
  }
 ],
 "metadata": {
  "kernelspec": {
   "display_name": "Python 3",
   "language": "python",
   "name": "python3"
  },
  "language_info": {
   "codemirror_mode": {
    "name": "ipython",
    "version": 3
   },
   "file_extension": ".py",
   "mimetype": "text/x-python",
   "name": "python",
   "nbconvert_exporter": "python",
   "pygments_lexer": "ipython3",
   "version": "3.11.4"
  }
 },
 "nbformat": 4,
 "nbformat_minor": 2
}
